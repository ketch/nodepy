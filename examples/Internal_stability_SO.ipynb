{
 "cells": [
  {
   "cell_type": "markdown",
   "metadata": {},
   "source": [
    "# Internal stability of Runge-Kutta methods, revisited\n",
    "\n",
    "We previously looked at internal stability of some classes of Runge--Kutta methods in [this notebook](https://github.com/ketch/nodepy/blob/master/examples/Internal_stability.ipynb), also posted on my blog [here](http://www.davidketcheson.info/2012/10/11/Internal_stability.html).  There I gave a formula for the internal stability polynomials based on the Butcher coefficients of the method.\n",
    "\n",
    "It turns out that internal stability depends on the manner in which a Runge--Kutta method is implemented.  That is, two mathematically equivalent implementations of the same method can have quite different internal stability polynomials and internal amplification factors.  This is rather surprising, since the *stability polynomial* that we traditionally study doesn't depend on the particular implementation.\n",
    "\n",
    "A general form for implementations of Runge--Kutta methods is the *modified Shu-Osher form*, which was introduced in order to facilitate analysis of strong stability preserving RK methods:\n",
    "\n",
    "\\begin{align}\n",
    "y_1 & = u^n\n",
    "\\end{align}"
   ]
  },
  {
   "cell_type": "code",
   "execution_count": null,
   "metadata": {},
   "outputs": [],
   "source": [
    "from nodepy import rk\n",
    "import numpy as np\n",
    "from matplotlib import pyplot as plt\n",
    "\n",
    "rk4 = rk.loadRKM('RK44')\n",
    "ssprk4 = rk.loadRKM('SSP104')\n",
    "print(rk4)\n",
    "ssprk4.print_shu_osher()"
   ]
  },
  {
   "cell_type": "markdown",
   "metadata": {},
   "source": [
    "## Absolute stability regions\n",
    "\n",
    "First we can use NodePy to plot the region of absolute stability for each method.  The absolute stability region is the set\n",
    "\n",
    "<center>$\\\\{ z \\in C : |\\phi (z)|\\le 1 \\\\}$</center>\n",
    "\n",
    "where $\\phi(z)$ is the *stability function* of the method:\n",
    "\n",
    "<center>$1 + z b^T (I-zA)^{-1}$</center>\n",
    "\n",
    "If we solve $u'(t) = \\lambda u$ with a given method, then $z=\\lambda \\Delta t$ must lie inside this region or the computation will be unstable."
   ]
  },
  {
   "cell_type": "code",
   "execution_count": null,
   "metadata": {},
   "outputs": [],
   "source": [
    "p,q = rk4.stability_function()\n",
    "print(p)\n",
    "h1=rk4.plot_stability_region()"
   ]
  },
  {
   "cell_type": "code",
   "execution_count": null,
   "metadata": {},
   "outputs": [],
   "source": [
    "p,q = ssprk4.stability_function()\n",
    "print(p)\n",
    "h2=ssprk4.plot_stability_region()"
   ]
  },
  {
   "cell_type": "markdown",
   "metadata": {},
   "source": [
    "# Internal stability\n",
    "\n",
    "The stability function tells us by how much errors from one step are amplified in the next one.  This is important since we introduce truncation errors at every step.  However, we also introduce roundoff errors at the each stage within a step.  Internal stability tells us about the growth of those.  Internal stability is typically less important than (step-by-step) absolute stability for two reasons:\n",
    "\n",
    " - Roundoff errors are typically much smaller than truncation errors, so moderate amplification of them typically is not significant\n",
    " - Although the propagation of stage errors within a step is governed by internal stability functions, in later steps these errors are propagated according to the (principal) stability function\n",
    "\n",
    "Nevertheless, in methods with many stages, internal stability can play a key role.\n",
    "\n",
    "Questions: *In the solution of PDEs, large spatial truncation errors enter at each stage.  Does this mean internal stability becomes more significant?  How does this relate to stiff accuracy analysis and order reduction?*\n",
    "\n",
    "## Internal stability functions\n",
    "\n",
    "We can write the equations of a Runge-Kutta method compactly as\n",
    "\n",
    "\\begin{align}\n",
    "y & = u^n e + h A F(y) \\\\\n",
    "u^{n+1} & = u^n + h b^T F(y),\n",
    "\\end{align}\n",
    "\n",
    "where $y$ is the vector of stage values, $u^n$ is the previous step solution, $e$ is a vector with all entries equal to 1, $h$ is the step size, $A$ and $b$ are the coefficients in the Butcher tableau, and $F(y)$ is the vector of stage derivatives.  In floating point arithmetic, roundoff errors will be made at each stage.  Representing these errors by a vector $r$, we have\n",
    "\n",
    "<center>$y = u^n e + h A F(y) + r.$</center>\n",
    "\n",
    "Considering the test problem $F(y)=\\lambda y$ and solving for $y$ gives\n",
    "\n",
    "<center>$y = u^n (I-zA)^{-1}e + (I-zA)^{-1}r,$</center>\n",
    "\n",
    "where $z=h\\lambda$.  Substituting this result in the equation for $u^{n+1}$ gives\n",
    "\n",
    "<center>$u^{n+1} = u^n (1 + zb^T(I-zA)^{-1}e) + zb^T(I-zA)^{-1}r = \\psi(z) u^n + \\theta(z)^T r.$</center>\n",
    "\n",
    "Here $\\psi(z)$ is the *stability function* of the method, that we already encountered above.  Meanwhile, the vector $\\theta(z)$ contains the *internal stability functions* that govern the amplification of roundoff errors $r$ within a step:\n",
    "\n",
    "<center>$\\theta(z) = z b^T (I-zA)^{-1}.$</center>\n",
    "\n",
    "Let's compute $\\theta$ for the classical RK4 method:"
   ]
  },
  {
   "cell_type": "code",
   "execution_count": null,
   "metadata": {},
   "outputs": [],
   "source": [
    "theta=rk4.internal_stability_polynomials()\n",
    "theta"
   ]
  },
  {
   "cell_type": "code",
   "execution_count": null,
   "metadata": {},
   "outputs": [],
   "source": [
    "for theta_j in theta:\n",
    "    print(theta_j)"
   ]
  },
  {
   "cell_type": "markdown",
   "metadata": {},
   "source": [
    "Thus the roundoff errors in the first stage are amplified by a factor $z^4/24 + z^3/12 + z^2/6 + z/6$, while the errors in the last stage are amplified by a factor $z/6$."
   ]
  },
  {
   "cell_type": "markdown",
   "metadata": {},
   "source": [
    "## Internal instability\n",
    "\n",
    "Usually internal stability is unimportant since it relates to amplification of roundoff errors, which are very small.  Let's think about when things can go wrong in terms of internal instability.  If $|\\theta(z)|$ is of the order $1/\\epsilon_{machine}$, then roundoff errors could be amplified so much that they destroy the accuracy of the computation.  More specifically, we should be concerned if $|\\theta(z)|$ is of the order $tol/\\epsilon_{machine}$ where $tol$ is our desired error tolerance.  Of course, we only care about values of $z$ that lie inside the absolute stability region $S$, since internal stability won't matter if the computation is not absolutely stable.\n",
    "\n",
    "We can get some idea about the amplification of stage errors by plotting the curves $|\\theta(z)|=1$ along with the stability region.  Ideally these curves will all lie outside the stability region, so that all stage errors are damped."
   ]
  },
  {
   "cell_type": "code",
   "execution_count": null,
   "metadata": {},
   "outputs": [],
   "source": [
    "rk4.internal_stability_plot()"
   ]
  },
  {
   "cell_type": "code",
   "execution_count": null,
   "metadata": {},
   "outputs": [],
   "source": [
    "ssprk4.internal_stability_plot()"
   ]
  },
  {
   "cell_type": "markdown",
   "metadata": {},
   "source": [
    "For both methods, we see that some of the curves intersect the absolute stability region, so some stage errors are amplified.  But by how much?  We'd really like to know the maximum amplification of the stage errors under the condition of absolute stability.  We therefore define the *maximum internal amplification factor* $M$:\n",
    "\n",
    "<center>$M = \\max_j \\max_{z \\in S} |\\theta_j(z)|$</center>"
   ]
  },
  {
   "cell_type": "code",
   "execution_count": null,
   "metadata": {},
   "outputs": [],
   "source": [
    "print(rk4.maximum_internal_amplification())\n",
    "print(ssprk4.maximum_internal_amplification())"
   ]
  },
  {
   "cell_type": "markdown",
   "metadata": {},
   "source": [
    "We see that both methods have small internal amplification factors, so internal stability is not a concern in either case.  This is not surprising for the method with only four stages; it is a surprisingly good property of the method with ten stages.\n",
    "\n",
    "Questions: *Do SSP RK methods always (necessarily) have small amplification factors?  Can we prove it?*\n",
    "\n",
    "Now let's look at some methods with many stages."
   ]
  },
  {
   "cell_type": "markdown",
   "metadata": {},
   "source": [
    "## Runge-Kutta Chebyshev methods\n",
    "\n",
    "The paper of Verwer, Hundsdorfer, and Sommeijer deals with RKC methods, which can have very many stages.  The construction of these methods is implemented in NodePy, so let's take a look at them.  The functions `RKC1(s)` and `RKC2(s)` construct RKC methods of order 1 and 2, respectively, with $s$ stages."
   ]
  },
  {
   "cell_type": "code",
   "execution_count": null,
   "metadata": {},
   "outputs": [],
   "source": [
    "s=4\n",
    "rkc = rk.RKC1(s)\n",
    "print(rkc)"
   ]
  },
  {
   "cell_type": "code",
   "execution_count": null,
   "metadata": {},
   "outputs": [],
   "source": [
    "rkc.internal_stability_plot()"
   ]
  },
  {
   "cell_type": "markdown",
   "metadata": {},
   "source": [
    "It looks like there could be some significant internal amplification here.  Let's see:"
   ]
  },
  {
   "cell_type": "code",
   "execution_count": null,
   "metadata": {},
   "outputs": [],
   "source": [
    "rkc.maximum_internal_amplification()"
   ]
  },
  {
   "cell_type": "markdown",
   "metadata": {},
   "source": [
    "Nothing catastrophic.  Let's try a larger value of $s$:"
   ]
  },
  {
   "cell_type": "code",
   "execution_count": null,
   "metadata": {},
   "outputs": [],
   "source": [
    "s = 20\n",
    "rkc = rk.RKC1(s)\n",
    "rkc.maximum_internal_amplification(formula='pow')"
   ]
  },
  {
   "cell_type": "markdown",
   "metadata": {},
   "source": [
    "As promised, these methods seem to have good internal stability properties.  What about the second-order methods?"
   ]
  },
  {
   "cell_type": "code",
   "execution_count": null,
   "metadata": {},
   "outputs": [],
   "source": [
    "s = 20\n",
    "rkc = rk.RKC2(s)\n",
    "rkc.maximum_internal_amplification(formula='pow')"
   ]
  },
  {
   "cell_type": "markdown",
   "metadata": {},
   "source": [
    "Again, nothing catastrophic.  We could take $s$ much larger than 20, but the calculations get to be rather slow (in Python) and since we're using floating point arithmetic, the accuracy deteriorates.\n",
    "\n",
    "Remark: *we could do the calculations in exact arithmetic using Sympy, but things would get even slower.  Perhaps there are some optimizations that could be done to speed this up.  Or perhaps we should use Mathematica if we need to do this kind of thing.*\n",
    "\n",
    "Remark 2: *of course, for the RKC methods the internal stability polynomials are shifted Chebyshev polynomials.  So we could evaluate them directly in a stable manner using the three-term recurrence (or perhaps scipy's special functions library).  This would also be a nice check on the calculations above.*"
   ]
  },
  {
   "cell_type": "markdown",
   "metadata": {},
   "source": [
    "## Other methods with many stages\n",
    "\n",
    "Three other classes of methods with many stages have been implemented in NodePy:\n",
    "\n",
    " - SSP families\n",
    " - Integral deferred correction (IDC) methods\n",
    " - Extrapolation methods"
   ]
  },
  {
   "cell_type": "markdown",
   "metadata": {},
   "source": [
    "### SSP Families"
   ]
  },
  {
   "cell_type": "code",
   "execution_count": null,
   "metadata": {},
   "outputs": [],
   "source": [
    "s = 20\n",
    "ssprk = rk.SSPRK2(s)\n",
    "ssprk.internal_stability_plot()\n",
    "ssprk.maximum_internal_amplification(formula='pow')"
   ]
  },
  {
   "cell_type": "code",
   "execution_count": null,
   "metadata": {},
   "outputs": [],
   "source": [
    "s = 25 # # of stages\n",
    "ssprk = rk.SSPRK3(s)\n",
    "ssprk.internal_stability_plot()\n",
    "ssprk.maximum_internal_amplification(formula='pow')"
   ]
  },
  {
   "cell_type": "markdown",
   "metadata": {},
   "source": [
    "The SSP methods seem to have excellent internal stability properties."
   ]
  },
  {
   "cell_type": "markdown",
   "metadata": {},
   "source": [
    "### IDC methods"
   ]
  },
  {
   "cell_type": "code",
   "execution_count": null,
   "metadata": {},
   "outputs": [],
   "source": [
    "p = 6 #order\n",
    "idc = rk.DC(p-1)\n",
    "print(len(idc))\n",
    "idc.internal_stability_plot()\n",
    "idc.maximum_internal_amplification(formula='pow')"
   ]
  },
  {
   "cell_type": "markdown",
   "metadata": {},
   "source": [
    "IDC methods also seem to have excellent internal stability."
   ]
  },
  {
   "cell_type": "markdown",
   "metadata": {},
   "source": [
    "### Extrapolation methods"
   ]
  },
  {
   "cell_type": "code",
   "execution_count": null,
   "metadata": {},
   "outputs": [],
   "source": [
    "p = 6 #order\n",
    "ex = rk.extrap(p)\n",
    "print(len(ex))\n",
    "ex.internal_stability_plot()\n",
    "ex.maximum_internal_amplification()"
   ]
  },
  {
   "cell_type": "markdown",
   "metadata": {},
   "source": [
    "Not so good.  Let's try a method with even more stages (this next computation will take a while; go stretch your legs)."
   ]
  },
  {
   "cell_type": "code",
   "execution_count": null,
   "metadata": {},
   "outputs": [],
   "source": [
    "p = 10 #order\n",
    "ex = rk.extrap(p)\n",
    "print(len(ex))\n",
    "ex.maximum_internal_amplification()"
   ]
  },
  {
   "cell_type": "markdown",
   "metadata": {},
   "source": [
    "Now we're starting to see something that might cause trouble, especially since such high order extrapolation methods are usually used when extremely tight error tolerances are required.  Internal amplification will cause a loss of about 5 digits of accuracy here, so the best we can hope for is about 10 digits of accuracy in double precision.  Higher order extrapolation methods will make things even worse.  How large are their amplification factors?  (Really long calculation here...)"
   ]
  },
  {
   "cell_type": "code",
   "execution_count": null,
   "metadata": {},
   "outputs": [],
   "source": [
    "pmax = 12\n",
    "ampfac = np.zeros(pmax+1)\n",
    "for p in range(1,pmax+1):\n",
    "    ex = rk.extrap(p)\n",
    "    ampfac[p] = ex.maximum_internal_amplification()[0]\n",
    "    print(p, ampfac[p])"
   ]
  },
  {
   "cell_type": "code",
   "execution_count": null,
   "metadata": {},
   "outputs": [],
   "source": [
    "plt.semilogy(ampfac,linewidth=3)\n",
    "plt.xlabel(r\"Order $p$\")\n",
    "plt.ylabel(r\"Amplification factor\")"
   ]
  },
  {
   "cell_type": "markdown",
   "metadata": {},
   "source": [
    "We see roughly geometric growth of the internal amplification factor as a function of the order $p$.  It seems clear that very high order extrapolation methods applied to problems with high accuracy requirements will fall victim to internal stability issues."
   ]
  }
 ],
 "metadata": {
  "kernelspec": {
   "display_name": "Python 3",
   "language": "python",
   "name": "python3"
  },
  "language_info": {
   "codemirror_mode": {
    "name": "ipython",
    "version": 3
   },
   "file_extension": ".py",
   "mimetype": "text/x-python",
   "name": "python",
   "nbconvert_exporter": "python",
   "pygments_lexer": "ipython3",
   "version": "3.8.2"
  }
 },
 "nbformat": 4,
 "nbformat_minor": 1
}
