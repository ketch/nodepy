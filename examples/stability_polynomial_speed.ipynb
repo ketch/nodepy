{
 "cells": [
  {
   "cell_type": "markdown",
   "metadata": {},
   "source": [
    "# Speed of symbolic computation of stability polynomials"
   ]
  },
  {
   "cell_type": "markdown",
   "metadata": {},
   "source": [
    "Symbolic computation of stability polynomials and internal stability polynomials in SymPy can get very slow for methods with many stages.  The stability polynomial can be computed in a variety of ways, and different ways seem to work better for different classes of RK methdods.  Let's investigate."
   ]
  },
  {
   "cell_type": "code",
   "execution_count": null,
   "metadata": {},
   "outputs": [],
   "source": [
    "%pylab inline\n",
    "import sympy\n",
    "from nodepy import rk\n",
    "import time\n",
    "import matplotlib.pyplot as plt\n",
    "import numpy as np"
   ]
  },
  {
   "cell_type": "markdown",
   "metadata": {},
   "source": [
    "Next we have 3 functions for computing the stability polynomial in different ways.  The first uses the matrix-inverse formula, the second uses the ratio of determinants, and the third uses a power series for the matrix inverse.  They are implemented for both the Shu-Osher and Butcher forms.\n",
    "\n",
    "Note that the ratio of determinants in the Shu-Osher form is still not implemented correcly.\n",
    "\n",
    "Also note that for implicit methods the ratio of determinants is the preferred method, since it gives formulas for the numerator and denominator.  Here we focus on explicit methods, for which the denominator is 1."
   ]
  },
  {
   "cell_type": "code",
   "execution_count": null,
   "metadata": {},
   "outputs": [],
   "source": [
    "def lower_triangular_solve(rk,SO=False): # Using lower_triangular_solve, which is always faster than LUsolve\n",
    "    start = time.perf_counter()\n",
    "    z = sympy.var('z')\n",
    "    I = sympy.eye(len(rk))\n",
    "    if SO:\n",
    "        v = 1 - rk.alpha.sum(1)\n",
    "        vstar = sympy.Matrix(v[:-1])\n",
    "        v_mp1 = sympy.Rational(v[-1])\n",
    "        alphastar=sympy.Matrix(rk.alpha[:-1,:])\n",
    "        betastar=sympy.Matrix(rk.beta[:-1,:])\n",
    "        alpha_mp1 = sympy.Matrix(rk.alpha[-1,:])\n",
    "        beta_mp1 = sympy.Matrix(rk.beta[-1,:])\n",
    "        p1=(alpha_mp1 + z*beta_mp1).transpose()*(I-alphastar-z*betastar).lower_triangular_solve(vstar)\n",
    "        p1=p1[0].expand()+v_mp1\n",
    "    else:\n",
    "        Asym=sympy.Matrix(rk.A)\n",
    "        bsym=sympy.Matrix(rk.b)\n",
    "        e = sympy.ones(len(rk),1)\n",
    "        p1=z*bsym.transpose()*(I-z*Asym).lower_triangular_solve(e)\n",
    "        p1=p1[0].expand()+1\n",
    "    p1=p1.as_poly(z).all_coeffs()\n",
    "    p1=p1[::-1]\n",
    "    q1=[sympy.Rational(1)]\n",
    "    p=np.poly1d(p1[::-1])    # Numerator\n",
    "    q=np.poly1d(q1[::-1])    # Denominator\n",
    "    t = time.perf_counter()-start\n",
    "    return p,q,t\n",
    "\n",
    "\n",
    "def determinants(rk,SO=False): #Using charpoly\n",
    "    start = time.perf_counter()\n",
    "    z=sympy.var('z')\n",
    "    if SO:\n",
    "        I = sympy.eye(len(rk))\n",
    "        v = 1 - rk.alpha.sum(1)\n",
    "        vstar = sympy.Matrix(v[:-1]).T\n",
    "        v_mp1 = sympy.Rational(v[-1])\n",
    "        alphastar=sympy.Matrix(rk.alpha[:-1,:])\n",
    "        betastar=sympy.Matrix(rk.beta[:-1,:])\n",
    "        alpha_mp1 = sympy.Matrix(rk.alpha[-1,:])\n",
    "        beta_mp1 = sympy.Matrix(rk.beta[-1,:])\n",
    "        xsym = I - alphastar - z*betastar + vstar/v_mp1 * (alpha_mp1+z*beta_mp1)\n",
    "        p1=v_mp1*xsym.charpoly(z).coeffs()\n",
    "    else:\n",
    "        Asym=sympy.Matrix(rk.A)\n",
    "        bsym=sympy.Matrix(np.tile(rk.b,(len(rk),1)))\n",
    "        xsym=Asym-bsym\n",
    "        p1=xsym.charpoly(z).coeffs()\n",
    "\n",
    "    q1=[sympy.Rational(1)]\n",
    "    p=np.poly1d(p1[::-1])    # Numerator\n",
    "    q=np.poly1d(q1[::-1])    # Denominator\n",
    "    t = time.perf_counter()-start\n",
    "    return p,q,t\n",
    "\n",
    "def series(rk,SO=False): # Using power series\n",
    "    start = time.perf_counter()\n",
    "    s = rk.num_seq_dep_stages()\n",
    "    z=sympy.var('z')\n",
    "    I = sympy.eye(len(rk))\n",
    "    if SO:\n",
    "        alphastarsym = sympy.Matrix(rk.alpha[0:-1,:])\n",
    "        betastarsym  = sympy.Matrix(rk.beta[0:-1,:])\n",
    "\n",
    "        matsym = alphastarsym + betastarsym*z\n",
    "        vecsym = sympy.Matrix(rk.alpha[-1,:]+z*rk.beta[-1,:])\n",
    "\n",
    "    else:\n",
    "        Asym=sympy.Matrix(rk.A)\n",
    "        bsym=sympy.Matrix(rk.b)\n",
    "        matsym = z*sympy.Matrix(rk.A)\n",
    "        vecsym = z*sympy.Matrix(rk.b)\n",
    "\n",
    "    # Compute (I-zA)^(-1) = I + zA + (zA)^2 + ... + (zA)^(s-1)\n",
    "    matpow = I\n",
    "    matsum = I\n",
    "    for i in range(1,s):\n",
    "        matpow = matpow*matsym\n",
    "        matsum = matsum + matpow\n",
    "    p1 = vecsym.transpose()*matsum\n",
    "    if SO:\n",
    "        v = 1 - rk.alpha.sum(1)\n",
    "        vstar = sympy.Matrix(v[:-1])\n",
    "        v_mp1 = sympy.Rational(v[-1])\n",
    "        p1 = p1*vstar\n",
    "        p1=p1[0].expand()+v_mp1\n",
    "    else:\n",
    "        e = sympy.ones(len(rk),1)\n",
    "        p1 = p1*e\n",
    "        p1=p1[0].expand()+1\n",
    "    \n",
    "    p1=p1.as_poly(z).all_coeffs()\n",
    "    p1=p1[::-1]\n",
    "    q1=[sympy.Rational(1)]\n",
    "    p=np.poly1d(p1[::-1])    # Numerator\n",
    "    q=np.poly1d(q1[::-1])    # Denominator\n",
    "    t = time.perf_counter()-start\n",
    "    return p,q,t"
   ]
  },
  {
   "cell_type": "markdown",
   "metadata": {},
   "source": [
    "The following function just runs each of the above approaches on a given family of methods and plots the run-times for each approach:"
   ]
  },
  {
   "cell_type": "code",
   "execution_count": null,
   "metadata": {},
   "outputs": [],
   "source": [
    "def time_stability_polynomial_calculation(method,pmin=2,pmax=5,approaches=[lower_triangular_solve,determinants,series],SO=False):\n",
    "    norders = pmax-pmin+1\n",
    "    orders = range(pmin,pmax+1)\n",
    "\n",
    "    times = []\n",
    "    for j in range(len(approaches)):\n",
    "        times.append(np.zeros((norders,1)))\n",
    "\n",
    "    for i, order in enumerate(orders):\n",
    "        myrk = method(order)\n",
    "        for j, approach in enumerate(approaches):\n",
    "            p,q,t = approach(myrk,SO=SO)\n",
    "            times[j][i] = t\n",
    "\n",
    "    for j in range(len(approaches)):\n",
    "        plt.plot(orders,times[j],linewidth=3)\n",
    "        \n",
    "    leg_text = [approach.__name__ for approach in approaches]\n",
    "    plt.legend(leg_text,loc='best')\n",
    "    plt.ylabel('time (s)')\n",
    "    plt.xlabel('order')\n",
    "    plt.title('Computation of stability polynomial for '+method.__name__)"
   ]
  },
  {
   "cell_type": "code",
   "execution_count": null,
   "metadata": {},
   "outputs": [],
   "source": [
    "time_stability_polynomial_calculation(rk.extrap,pmax=7)"
   ]
  },
  {
   "cell_type": "code",
   "execution_count": null,
   "metadata": {},
   "outputs": [],
   "source": [
    "time_stability_polynomial_calculation(rk.extrap,pmax=7,SO=True,approaches=[lower_triangular_solve,series])"
   ]
  },
  {
   "cell_type": "markdown",
   "metadata": {},
   "source": [
    "Clearly the `lower_triangular_solve` method is the fastest for extrapolation methods.  The other two methods will quickly reach unreasonable run-times if we increase $p$ further.  Using the Shu-Osher form is noticeably faster for all methods."
   ]
  },
  {
   "cell_type": "code",
   "execution_count": null,
   "metadata": {},
   "outputs": [],
   "source": [
    "time_stability_polynomial_calculation(rk.DC,pmax=5)"
   ]
  },
  {
   "cell_type": "code",
   "execution_count": null,
   "metadata": {},
   "outputs": [],
   "source": [
    "time_stability_polynomial_calculation(rk.DC,pmax=5, )"
   ]
  },
  {
   "cell_type": "markdown",
   "metadata": {},
   "source": [
    "For deferred correction methods, we see roughly the opposite behavior: `lower_triangular_solve` is extremely slow compared to either of the other two.  Series has a slight edge over charpoly.  Again, using the Shu-Osher form is significantly faster for some methods."
   ]
  },
  {
   "cell_type": "code",
   "execution_count": null,
   "metadata": {},
   "outputs": [],
   "source": [
    "time_stability_polynomial_calculation(rk.RKC1,pmax=12)"
   ]
  },
  {
   "cell_type": "code",
   "execution_count": null,
   "metadata": {},
   "outputs": [],
   "source": [
    "time_stability_polynomial_calculation(rk.RKC1,pmax=12,SO=True,approaches=[lower_triangular_solve,series])"
   ]
  },
  {
   "cell_type": "markdown",
   "metadata": {},
   "source": [
    "For RKC methods, things are complicated.  The `determinants` approach is fastest if using the Butcher form, but the other two approaches are reasonably fast if using the Shu-Osher form (I really need to implement the Shu-Osher ration of determinants!) (I should add that the x-axis label here is wrong; it should really be \"stages\") "
   ]
  },
  {
   "cell_type": "code",
   "execution_count": null,
   "metadata": {},
   "outputs": [],
   "source": [
    "time_stability_polynomial_calculation(rk.SSPRK2,pmax=12)"
   ]
  },
  {
   "cell_type": "code",
   "execution_count": null,
   "metadata": {},
   "outputs": [],
   "source": [
    "time_stability_polynomial_calculation(rk.SSPRK2,pmax=12,SO=True,approaches=[lower_triangular_solve,series])"
   ]
  },
  {
   "cell_type": "markdown",
   "metadata": {},
   "source": [
    "SSPRK2 methods behave mostly like RKC methods, which is unsurprising since they have a very similar structure.  But they show much better results using `lower_triangular_solve` on the SO form."
   ]
  },
  {
   "cell_type": "markdown",
   "metadata": {},
   "source": [
    "So, we can implement all three options.  Which should be the default?  Let's try an \"ordinary\" Runge-Kutta method, not belonging to any of these families (but with a moderately large number of stages):"
   ]
  },
  {
   "cell_type": "code",
   "execution_count": null,
   "metadata": {},
   "outputs": [],
   "source": [
    "approaches=[lower_triangular_solve,determinants,series]\n",
    "SO=False\n",
    "times = []\n",
    "myrk = rk.loadRKM('PD8')\n",
    "for j, approach in enumerate(approaches):\n",
    "    p,q,t = approach(myrk,SO=SO)\n",
    "    times.append(t)\n",
    "list(zip([approach.__name__ for approach in approaches], times))"
   ]
  },
  {
   "cell_type": "markdown",
   "metadata": {},
   "source": [
    "`lower_triangular_solve` is the clear loser.  So we'll go with `determinants` as the default if Butcher coefficients are used, `lower_triangular_solve` as the default if Shu-Osher arrays are used, but allow the user to pick any of the three.\n",
    "\n",
    "For the implementation of `internal_stability_polynomials`, it seems not worthwhile to work out and implement a ratio of determinants formula, so we'll just provide the other two and default to Shu-Osher with `lower_triangular_solve`."
   ]
  }
 ],
 "metadata": {
  "kernelspec": {
   "display_name": "Python 3",
   "language": "python",
   "name": "python3"
  },
  "language_info": {
   "codemirror_mode": {
    "name": "ipython",
    "version": 3
   },
   "file_extension": ".py",
   "mimetype": "text/x-python",
   "name": "python",
   "nbconvert_exporter": "python",
   "pygments_lexer": "ipython3",
   "version": "3.8.2"
  }
 },
 "nbformat": 4,
 "nbformat_minor": 1
}
