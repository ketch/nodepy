{
 "cells": [
  {
   "cell_type": "markdown",
   "metadata": {},
   "source": [
    "# What can you do with NodePy?"
   ]
  },
  {
   "cell_type": "markdown",
   "metadata": {},
   "source": [
    "## Understanding Runge-Kutta order conditions"
   ]
  },
  {
   "cell_type": "code",
   "execution_count": null,
   "metadata": {},
   "outputs": [],
   "source": [
    "import nodepy.rooted_trees as rt\n",
    "import matplotlib.pyplot as plt\n",
    "\n",
    "fig = rt.plot_all_trees(6)\n",
    "#plt.suptitle('Rooted Trees of Order 6',fontsize=20)\n",
    "#plt.suptitle('Titles are tree representations in Butcher notation',fontsize=12,y=0.05)\n",
    "plt.setp(fig,dpi=500)\n",
    "plt.draw()"
   ]
  },
  {
   "cell_type": "markdown",
   "metadata": {},
   "source": [
    "## Practical comparison of Runge-Kutta methods"
   ]
  },
  {
   "cell_type": "markdown",
   "metadata": {},
   "source": [
    "### Convergence test"
   ]
  },
  {
   "cell_type": "code",
   "execution_count": null,
   "metadata": {},
   "outputs": [],
   "source": [
    "import nodepy.runge_kutta_method as rk\n",
    "import nodepy.convergence as cv\n",
    "from nodepy import ivp\n",
    "\n",
    "#Load some methods:\n",
    "rk4=rk.loadRKM('RK44')\n",
    "SSP2=rk.loadRKM('SSP22')\n",
    "SSP104=rk.loadRKM('SSP104')\n",
    "\n",
    "#Define an IVP:\n",
    "myivp = ivp.load_ivp('test')\n",
    "\n",
    "print(myivp.exact(myivp.T))\n",
    "\n",
    "cv.ctest([rk4,SSP2,SSP104], myivp, verbosity=1)\n",
    "\n",
    "print(myivp.exact(myivp.T))"
   ]
  },
  {
   "cell_type": "markdown",
   "metadata": {},
   "source": [
    "### Performance test"
   ]
  },
  {
   "cell_type": "code",
   "execution_count": null,
   "metadata": {},
   "outputs": [],
   "source": [
    "\"\"\"Runs a performance test over the non-stiff DETEST suite of problems\"\"\"\n",
    "from nodepy import *\n",
    "\n",
    "bs5=rk.loadRKM('BS5')\n",
    "f5=rk.loadRKM('Fehlberg45')\n",
    "dp5=rk.loadRKM('DP5')\n",
    "ivps=ivp.detest_suite()\n",
    "\n",
    "tols=list(map(lambda x:10**-x,range(4,10)))\n",
    "\n",
    "conv.ptest([bs5,dp5,f5],ivps,tols)"
   ]
  },
  {
   "cell_type": "code",
   "execution_count": null,
   "metadata": {},
   "outputs": [],
   "source": []
  }
 ],
 "metadata": {
  "kernelspec": {
   "display_name": "Python 3",
   "language": "python",
   "name": "python3"
  },
  "language_info": {
   "codemirror_mode": {
    "name": "ipython",
    "version": 3
   },
   "file_extension": ".py",
   "mimetype": "text/x-python",
   "name": "python",
   "nbconvert_exporter": "python",
   "pygments_lexer": "ipython3",
   "version": "3.8.2"
  },
  "toc": {
   "base_numbering": 1,
   "nav_menu": {},
   "number_sections": true,
   "sideBar": true,
   "skip_h1_title": false,
   "title_cell": "Table of Contents",
   "title_sidebar": "Contents",
   "toc_cell": false,
   "toc_position": {},
   "toc_section_display": true,
   "toc_window_display": false
  }
 },
 "nbformat": 4,
 "nbformat_minor": 1
}
